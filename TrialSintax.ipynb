{
 "cells": [
  {
   "cell_type": "code",
   "execution_count": 5,
   "metadata": {},
   "outputs": [
    {
     "name": "stdout",
     "output_type": "stream",
     "text": [
      "Welcome to Python!\n",
      "3\n"
     ]
    }
   ],
   "source": [
    "print (\"Welcome to Python!\");\n",
    "my_variable = 10;\n",
    "my_int = 7;\n",
    "my_float = 1.23;\n",
    "my_bool = True;\n",
    "# change value\n",
    "my_int = 7;\n",
    "my_int = 3;\n",
    "print (my_int);"
   ]
  },
  {
   "cell_type": "code",
   "execution_count": 7,
   "metadata": {},
   "outputs": [
    {
     "name": "stdout",
     "output_type": "stream",
     "text": [
      "12\n",
      "12\n"
     ]
    }
   ],
   "source": [
    "# first\n",
    "def spam():\n",
    "    eggs = 12\n",
    "    return eggs\n",
    "print (spam());\n",
    "\n",
    "# second\n",
    "def spam():\n",
    "    eggs = 12\n",
    "    return eggs\n",
    "print (spam());"
   ]
  },
  {
   "cell_type": "code",
   "execution_count": 8,
   "metadata": {},
   "outputs": [
    {
     "name": "stdout",
     "output_type": "stream",
     "text": [
      "11000.6\n",
      "100\n",
      "1\n"
     ]
    }
   ],
   "source": [
    "# single line comment\n",
    "\"\"\"test\n",
    "multi lines comment\n",
    "\"\"\"\n",
    "addition = 72 + 23;\n",
    "subtraction = 108 - 204;\n",
    "multiplication = 108 * 0.5;\n",
    "division = 108 / 9;\n",
    "\n",
    "# addition\n",
    "count_to = 5000 + 6000.6;\n",
    "print (count_to);\n",
    "\n",
    "# square, exponentiation, to the power of\n",
    "eggs = 10**2;\n",
    "print(eggs);\n",
    "\n",
    "# modulo\n",
    "spam = 5 % 4;\n",
    "print(spam);\n",
    "\n",
    "# 1, modulo"
   ]
  },
  {
   "cell_type": "code",
   "execution_count": 11,
   "metadata": {},
   "outputs": [],
   "source": [
    "# comment\n",
    "monty = True;\n",
    "python = 1.234;\n",
    "monty_python = python ** 2;"
   ]
  },
  {
   "cell_type": "code",
   "execution_count": 12,
   "metadata": {},
   "outputs": [
    {
     "name": "stdout",
     "output_type": "stream",
     "text": [
      "1.80\n"
     ]
    }
   ],
   "source": [
    "#Tip Calculator\n",
    "meal = 44.50;\n",
    "\n",
    "# 6.75%\n",
    "tax = 0.0675;\n",
    "\n",
    "# 15%\n",
    "tip = 0.15;\n",
    "meal = (meal + meal) * tax;\n",
    "total = (meal + meal) * tip;\n",
    "print(\"%.2f\" % total);"
   ]
  },
  {
   "cell_type": "code",
   "execution_count": 15,
   "metadata": {},
   "outputs": [
    {
     "name": "stdout",
     "output_type": "stream",
     "text": [
      "Graham\n",
      "This isn't flying, this is falling with style!\n",
      "Y\n"
     ]
    }
   ],
   "source": [
    "caesar = \"Graham\";\n",
    "print(caesar);\n",
    "\n",
    "# Escaping characters\n",
    "abc = 'This isn\\'t flying, this is falling with style!';\n",
    "print(abc);\n",
    "\"\"\"\n",
    "The string \"PYTHON\" has six characters,\n",
    "numbered 0 to 5, as shown below:\n",
    "+---+---+---+---+---+---+\n",
    "| P | Y | T | H | O | N |\n",
    "+---+---+---+---+---+---+\n",
    "  0   1   2   3   4   5\n",
    "So if you wanted \"Y\", you could just type\n",
    "\"PYTHON\"[1] (always start counting from 0!)\n",
    "\"\"\"\n",
    "fifth_letter = \"MONTY\"[4];\n",
    "print(fifth_letter);\n",
    "# Y"
   ]
  },
  {
   "cell_type": "code",
   "execution_count": 17,
   "metadata": {},
   "outputs": [
    {
     "name": "stdout",
     "output_type": "stream",
     "text": [
      "14\n",
      "norwegian blue\n",
      "NORWEGIAN BLUE\n",
      "3.14\n",
      "27\n",
      "THE MINISTRY OF SILLY WALKS\n"
     ]
    }
   ],
   "source": [
    "parrot = \"Norwegian Blue\";\n",
    "print(len(parrot));\n",
    "\n",
    "#14\n",
    "# String methods: len(), lower(), upper(), str()\n",
    "parrot = \"Norwegian Blue\";\n",
    "print(parrot.lower()); \n",
    "print(parrot.upper());\n",
    "\n",
    "# to string\n",
    "pi=3.14;\n",
    "print(str(pi));\n",
    "    \n",
    "# review\n",
    "ministry = \"The Ministry of Silly Walks\";\n",
    "print(len(ministry)); \n",
    "print(ministry.upper());"
   ]
  },
  {
   "cell_type": "code",
   "execution_count": 21,
   "metadata": {},
   "outputs": [
    {
     "name": "stdout",
     "output_type": "stream",
     "text": [
      "Spam and eggs\n",
      "The value of pi is around  3.14\n",
      "The value of pi is around 3.14\n",
      "Let's not go to Camelot. 'Tis a silly place.\n",
      "Hello Mike\n"
     ]
    },
    {
     "ename": "NameError",
     "evalue": "name 'raw_input' is not defined",
     "output_type": "error",
     "traceback": [
      "\u001b[1;31m---------------------------------------------------------------------------\u001b[0m",
      "\u001b[1;31mNameError\u001b[0m                                 Traceback (most recent call last)",
      "\u001b[1;32m<ipython-input-21-b7f7cf006c60>\u001b[0m in \u001b[0;36m<module>\u001b[1;34m\u001b[0m\n\u001b[0;32m     15\u001b[0m \u001b[1;31m# string formatting, tanda %s dan %\u001b[0m\u001b[1;33m\u001b[0m\u001b[1;33m\u001b[0m\u001b[1;33m\u001b[0m\u001b[0m\n\u001b[0;32m     16\u001b[0m \u001b[1;31m# fungsi raw_input (input dari keyboard pas runtime)\u001b[0m\u001b[1;33m\u001b[0m\u001b[1;33m\u001b[0m\u001b[1;33m\u001b[0m\u001b[0m\n\u001b[1;32m---> 17\u001b[1;33m \u001b[0mname\u001b[0m \u001b[1;33m=\u001b[0m \u001b[0mraw_input\u001b[0m\u001b[1;33m(\u001b[0m\u001b[1;34m\"What is your name?\"\u001b[0m\u001b[1;33m)\u001b[0m\u001b[1;33m;\u001b[0m\u001b[1;33m\u001b[0m\u001b[1;33m\u001b[0m\u001b[0m\n\u001b[0m\u001b[0;32m     18\u001b[0m \u001b[0mquest\u001b[0m \u001b[1;33m=\u001b[0m \u001b[0mraw_input\u001b[0m\u001b[1;33m(\u001b[0m\u001b[1;34m\"What is your quest?\"\u001b[0m\u001b[1;33m)\u001b[0m\u001b[1;33m;\u001b[0m\u001b[1;33m\u001b[0m\u001b[1;33m\u001b[0m\u001b[0m\n\u001b[0;32m     19\u001b[0m \u001b[0mcolor\u001b[0m \u001b[1;33m=\u001b[0m \u001b[0mraw_input\u001b[0m\u001b[1;33m(\u001b[0m\u001b[1;34m\"What is your favorite color?\"\u001b[0m\u001b[1;33m)\u001b[0m\u001b[1;33m;\u001b[0m\u001b[1;33m\u001b[0m\u001b[1;33m\u001b[0m\u001b[0m\n",
      "\u001b[1;31mNameError\u001b[0m: name 'raw_input' is not defined"
     ]
    }
   ],
   "source": [
    "# to string, printing variables, string concatenation\n",
    "print(\"Spam \" + \"and \" + \"eggs\");\n",
    "print(\"The value of pi is around \",+ 3.14);\n",
    "\n",
    "# error\n",
    "print(\"The value of pi is around \" + str(3.14));\n",
    "string_1 = \"Camelot\";\n",
    "string_2 = \"place\";\n",
    "print(\"Let's not go to %s. 'Tis a silly %s.\" % (string_1, string_2));\n",
    "\n",
    "# string formatting\n",
    "name = \"Mike\";\n",
    "print(\"Hello %s\" % (name));\n",
    "\n",
    "# string formatting, tanda %s dan %\n",
    "# fungsi raw_input (input dari keyboard pas runtime)\n",
    "name = raw_input(\"What is your name?\");\n",
    "quest = raw_input(\"What is your quest?\");\n",
    "color = raw_input(\"What is your favorite color?\");\n",
    "print(\"Ah, so your name is %s, your quest is %s, \" \\\n",
    "\"and your favorite color is %s.\" % (name, quest, color));"
   ]
  },
  {
   "cell_type": "code",
   "execution_count": null,
   "metadata": {},
   "outputs": [],
   "source": []
  }
 ],
 "metadata": {
  "kernelspec": {
   "display_name": "Python 3",
   "language": "python",
   "name": "python3"
  },
  "language_info": {
   "codemirror_mode": {
    "name": "ipython",
    "version": 3
   },
   "file_extension": ".py",
   "mimetype": "text/x-python",
   "name": "python",
   "nbconvert_exporter": "python",
   "pygments_lexer": "ipython3",
   "version": "3.7.3"
  }
 },
 "nbformat": 4,
 "nbformat_minor": 4
}
