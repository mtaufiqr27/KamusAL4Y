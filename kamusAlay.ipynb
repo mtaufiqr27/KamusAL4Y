{
 "cells": [
  {
   "cell_type": "code",
   "execution_count": null,
   "metadata": {},
   "outputs": [],
   "source": [
    "#KAMUS BAHASA ALAY\n",
    "#ANGGOTA : GELAR PAMBUDI A. / 18117020\n",
    "#          M. TAUFIQ RAFIANDI / 18117035"
   ]
  },
  {
   "cell_type": "code",
   "execution_count": 1,
   "metadata": {},
   "outputs": [],
   "source": [
    "def hasNumbers(text):\n",
    "    return any(char.isdigit() for char in text)"
   ]
  },
  {
   "cell_type": "code",
   "execution_count": 2,
   "metadata": {},
   "outputs": [
    {
     "name": "stdin",
     "output_type": "stream",
     "text": [
      "Masukkan kata alay:  4ku 94nt3n9\n"
     ]
    },
    {
     "name": "stdout",
     "output_type": "stream",
     "text": [
      "aku ganteng\n"
     ]
    }
   ],
   "source": [
    "bahasaAlay = input(\"Masukkan kata alay: \")\n",
    "bahasaAlay.lower()\n",
    "if hasNumbers(bahasaAlay):\n",
    "    new = bahasaAlay.replace(\"4\",\"a\") \\\n",
    "                    .replace(\"3\",\"e\") \\\n",
    "                    .replace(\"9\",\"g\") \\\n",
    "                    .replace(\"7\",\"j\") \\\n",
    "                    .replace(\"0\",\"o\") \\\n",
    "                    .replace(\"8\",\"b\") \\\n",
    "                    .replace(\"1\",\"i\")\n",
    "    print(new)\n",
    "else:\n",
    "    print(bahasaAlay,\"bukan kata alay\")"
   ]
  },
  {
   "cell_type": "code",
   "execution_count": null,
   "metadata": {},
   "outputs": [],
   "source": []
  }
 ],
 "metadata": {
  "kernelspec": {
   "display_name": "Python 3",
   "language": "python",
   "name": "python3"
  },
  "language_info": {
   "codemirror_mode": {
    "name": "ipython",
    "version": 3
   },
   "file_extension": ".py",
   "mimetype": "text/x-python",
   "name": "python",
   "nbconvert_exporter": "python",
   "pygments_lexer": "ipython3",
   "version": "3.7.3"
  }
 },
 "nbformat": 4,
 "nbformat_minor": 2
}
